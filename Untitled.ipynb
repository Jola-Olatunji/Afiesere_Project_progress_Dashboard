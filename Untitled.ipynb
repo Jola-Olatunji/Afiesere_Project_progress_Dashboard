{
 "cells": [
  {
   "cell_type": "markdown",
   "id": "c0efcdf9",
   "metadata": {},
   "source": [
    "# Afiesere project Progress Dashboard\n",
    "![Dashboard](Capture.jpg)\n",
    "## A Brief Introduction\n",
    "This project was designed to monitor and manage progress in the execution of the Afiesere \n",
    "facility Information Management (FIM) project for **Heritage Energy Operations Services Limited**. \n",
    "The project incorporates a reporting template and a Dashboard. In the reporting templating, \n",
    "all team members involved particularly in the 3d modelling phase of the FIM project can log in their daily progress and activities and also comment on particular issues. While, the dashboard gives a summary of important development as they happen from time to time. Therefore, ensuring that progress can be monitored as they occur and can be attended to.\n",
    "\n",
    "## Data Gathering/ Reporting\n",
    "The reporting template is designed such that it will be easy to use and will require minimal effort on the part of the user. This was achieved by employing data validation where necessary, to govern user input and ensure uniformity. Also excel formula and VBA Scripting was heavily leveraged to timestamp and log activities. This ensures that several data are infered when the user start a task, finish a task, or record the level of progress achieved per time.\n",
    "\n",
    "However, team leads have the responsibility to assign task to owners before the project begin and also assign the number of hours required for each assigned task.\n",
    "\n",
    "## Some excel formula used \n",
    "\n",
    "#### Start time\n",
    "> Timestamp of when a user select \"InProgress\" from the Status column\n",
    "![starttime](start_date_snip.jpg)\n",
    "\n",
    "#### End Time\n",
    "> Timestamp of when a user select \"Complete\" from the Status column\n",
    "![endtime](enddate_snip.jpg)\n",
    "\n",
    "#### Time Taken\n",
    "> Calculated from the difference between start time and end time putting into consideration, 8 hours workday from 8:00am to 4:00am, weekends and holidays\n",
    "![time_taken_snip](time_taken_snip.jpg)\n",
    "\n",
    "#### Estimated End date\n",
    "> Calculated from the start date and estimated time to finish information. This will also inform due task and escalate them on the dashboard\n",
    "\n",
    "![Estimated_Enddate](Estimated_Enddate.jpg)\n",
    "\n",
    "\n",
    "#### Due tasks\n",
    "> Calculated using an array formula that logically test for due tasks on the main reporting template sheet and logs them in a different table on a \"Due_tasks\" sheet. This will help to easily see due tasks and reach alignment on mitigating further risk to project timeline. \n",
    "\n",
    "![Due_tasks](Due_tasks.jpg)\n",
    "\n",
    "#### project log and VBA_Code\n",
    "> A VBA code taking advantage of the worksheet change event object in the workshet was used to timestamp changes per time on an activity and also to log important information about the tasks InProgress and Completed. and also to show the cummulative addition of man hours to the project per time.\n",
    "\n",
    "![VBA_Snip](VBA_Snip.jpg)\n",
    "\n",
    "![Project_Log](Project_Log.jpg)\n",
    "\n",
    "## Limitation\n",
    "The project can be used to track  and manage intra departmental tasks and activities, but further data engineering activities will be required in collecting this data and storing it in a proper database in order to provide more long term insights into team performance from project to project.\n"
   ]
  },
  {
   "cell_type": "code",
   "execution_count": null,
   "id": "1a28ae35",
   "metadata": {},
   "outputs": [],
   "source": []
  }
 ],
 "metadata": {
  "kernelspec": {
   "display_name": "Python 3 (ipykernel)",
   "language": "python",
   "name": "python3"
  },
  "language_info": {
   "codemirror_mode": {
    "name": "ipython",
    "version": 3
   },
   "file_extension": ".py",
   "mimetype": "text/x-python",
   "name": "python",
   "nbconvert_exporter": "python",
   "pygments_lexer": "ipython3",
   "version": "3.8.13"
  }
 },
 "nbformat": 4,
 "nbformat_minor": 5
}
